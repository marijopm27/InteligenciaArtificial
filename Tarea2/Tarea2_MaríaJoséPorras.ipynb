{
 "cells": [
  {
   "cell_type": "markdown",
   "metadata": {},
   "source": [
    "# Tarea 02: Aplicación de Machine Learnign en el Conjunto de Datos Iris\n"
   ]
  },
  {
   "cell_type": "markdown",
   "metadata": {},
   "source": [
    "## Objetivo\n",
    "El propósito de esta tarea es realizar un análisis y aplicación de Machine Learning en el conjunto de \n",
    "datos Iris, utilizando el algoritmo de k-Nearest Neighbors (KNN). Se espera que el participante \n",
    "descargue el conjunto de datos desde Kaggle, realice una exploración detallada de las \n",
    "características y, posteriormente, implemente y evalúe el modelo de Machine Learning."
   ]
  },
  {
   "cell_type": "markdown",
   "metadata": {},
   "source": [
    "## Descarga del Conjunto de Datos\n",
    "Descargar el conjunto de datos desde Kaggle mediante el siguiente \n",
    "enlace: https://www.kaggle.com/datasets/arshid/iris-flower-dataset\n",
    "\n",
    "Después de la descarga correspondiente del conjunto de datos, ubicar el archivo en el mismo directorio del notebook y realizar la carga del archivo por medio de la librería de pandas"
   ]
  },
  {
   "cell_type": "code",
   "execution_count": 55,
   "metadata": {},
   "outputs": [],
   "source": [
    "# Importar Pandas para realizar la lectura de los datos descargados\n",
    "import pandas as pd\n",
    "\n",
    "# Cargar el conjunto de datos\n",
    "iris_flower_dataset = pd.read_csv(\"IRIS.csv\")"
   ]
  },
  {
   "cell_type": "markdown",
   "metadata": {},
   "source": [
    "## Lectura y análisis del Dataset\n",
    "\n",
    "Al realizar la carga del conjunto de datos se puede realizar una lectura y análisis de los componentes y parámteros que lo conforman"
   ]
  },
  {
   "cell_type": "code",
   "execution_count": 56,
   "metadata": {},
   "outputs": [
    {
     "name": "stdout",
     "output_type": "stream",
     "text": [
      "   sepal_length  sepal_width  petal_length  petal_width      species\n",
      "0           5.1          3.5           1.4          0.2  Iris-setosa\n",
      "1           4.9          3.0           1.4          0.2  Iris-setosa\n",
      "2           4.7          3.2           1.3          0.2  Iris-setosa\n",
      "3           4.6          3.1           1.5          0.2  Iris-setosa\n",
      "4           5.0          3.6           1.4          0.2  Iris-setosa\n"
     ]
    }
   ],
   "source": [
    "#Infromacion de las filas\n",
    "print(iris_flower_dataset.head())"
   ]
  },
  {
   "cell_type": "code",
   "execution_count": 45,
   "metadata": {},
   "outputs": [
    {
     "name": "stdout",
     "output_type": "stream",
     "text": [
      "<class 'pandas.core.frame.DataFrame'>\n",
      "RangeIndex: 150 entries, 0 to 149\n",
      "Data columns (total 5 columns):\n",
      " #   Column        Non-Null Count  Dtype  \n",
      "---  ------        --------------  -----  \n",
      " 0   sepal_length  150 non-null    float64\n",
      " 1   sepal_width   150 non-null    float64\n",
      " 2   petal_length  150 non-null    float64\n",
      " 3   petal_width   150 non-null    float64\n",
      " 4   species       150 non-null    object \n",
      "dtypes: float64(4), object(1)\n",
      "memory usage: 6.0+ KB\n",
      "None\n"
     ]
    }
   ],
   "source": [
    "#Informacion resumida del detalle de las columnas\n",
    "print(iris_flower_dataset.info())"
   ]
  },
  {
   "cell_type": "code",
   "execution_count": 46,
   "metadata": {},
   "outputs": [
    {
     "name": "stdout",
     "output_type": "stream",
     "text": [
      "Total de especies del conjunto de datos\n",
      "150 \n",
      "\n",
      "Distribucion de especies del conjunto de datos\n",
      "Iris-setosa        50\n",
      "Iris-versicolor    50\n",
      "Iris-virginica     50\n",
      "Name: species, dtype: int64\n"
     ]
    }
   ],
   "source": [
    "# Distribución de las cantidades de las diferentes especies de flores\n",
    "print(\"Total de especies del conjunto de datos\")\n",
    "print(iris_flower_dataset[\"species\"].count(),\"\\n\")\n",
    "\n",
    "print(\"Distribucion de especies del conjunto de datos\")\n",
    "print(iris_flower_dataset[\"species\"].value_counts())\n"
   ]
  },
  {
   "cell_type": "code",
   "execution_count": 47,
   "metadata": {},
   "outputs": [
    {
     "name": "stdout",
     "output_type": "stream",
     "text": [
      "       sepal_length  sepal_width  petal_length  petal_width\n",
      "count    150.000000   150.000000    150.000000   150.000000\n",
      "mean       5.843333     3.054000      3.758667     1.198667\n",
      "std        0.828066     0.433594      1.764420     0.763161\n",
      "min        4.300000     2.000000      1.000000     0.100000\n",
      "25%        5.100000     2.800000      1.600000     0.300000\n",
      "50%        5.800000     3.000000      4.350000     1.300000\n",
      "75%        6.400000     3.300000      5.100000     1.800000\n",
      "max        7.900000     4.400000      6.900000     2.500000\n"
     ]
    }
   ],
   "source": [
    "# Estadisticas sobre las caracteristicas de los datos\n",
    "print(iris_flower_dataset.describe())\n"
   ]
  },
  {
   "cell_type": "markdown",
   "metadata": {},
   "source": [
    "### Visualización y análisis de características\n",
    " "
   ]
  },
  {
   "cell_type": "code",
   "execution_count": 48,
   "metadata": {},
   "outputs": [
    {
     "data": {
      "image/png": "[encoded data removed]",
      "text/plain": [
       "<Figure size 720x432 with 1 Axes>"
      ]
     },
     "metadata": {
      "needs_background": "light"
     },
     "output_type": "display_data"
    }
   ],
   "source": [
    "import numpy as np\n",
    "import matplotlib.pyplot as plt\n",
    "\n",
    "plt.figure(figsize=(10, 6))\n",
    "\n",
    "# Iterar sobre cada grupo de especies\n",
    "for species, group in iris_flower_dataset.groupby('species'):\n",
    "    plt.hist(group['sepal_length'], bins=10, alpha=0.5, label=species)\n",
    "\n",
    "# Configurar etiquetas y título\n",
    "plt.xlabel('Sepal Length')\n",
    "plt.ylabel('Frequency')\n",
    "plt.title('Sepal Length Distribution by Species')\n",
    "\n",
    "# Agregar leyenda\n",
    "plt.legend()\n",
    "\n",
    "# Mostrar el histograma\n",
    "plt.show()"
   ]
  },
  {
   "cell_type": "code",
   "execution_count": 49,
   "metadata": {},
   "outputs": [
    {
     "data": {
      "image/png": "[encoded data removed]",
      "text/plain": [
       "<Figure size 720x432 with 1 Axes>"
      ]
     },
     "metadata": {
      "needs_background": "light"
     },
     "output_type": "display_data"
    }
   ],
   "source": [
    "plt.figure(figsize=(10, 6))\n",
    "\n",
    "# Iterar sobre cada grupo de especies\n",
    "for species, group in iris_flower_dataset.groupby('species'):\n",
    "    plt.hist(group['petal_length'], bins=10, alpha=0.5, label=species)\n",
    "\n",
    "# Configurar etiquetas y título\n",
    "plt.xlabel('Petal Length')\n",
    "plt.ylabel('Frequency')\n",
    "plt.title('Petal Length Distribution by Species')\n",
    "\n",
    "# Agregar leyenda\n",
    "plt.legend()\n",
    "\n",
    "# Mostrar el histograma\n",
    "plt.show()"
   ]
  },
  {
   "cell_type": "code",
   "execution_count": 50,
   "metadata": {},
   "outputs": [
    {
     "data": {
      "image/png": "[encoded data removed]",
      "text/plain": [
       "<Figure size 720x432 with 1 Axes>"
      ]
     },
     "metadata": {
      "needs_background": "light"
     },
     "output_type": "display_data"
    }
   ],
   "source": [
    "plt.figure(figsize=(10, 6))\n",
    "\n",
    "# Iterar sobre cada grupo de especies\n",
    "for species, group in iris_flower_dataset.groupby('species'):\n",
    "    plt.hist(group['sepal_width'], bins=10, alpha=0.5, label=species)\n",
    "\n",
    "# Configurar etiquetas y título\n",
    "plt.xlabel('Sepal Width')\n",
    "plt.ylabel('Frequency')\n",
    "plt.title('Sepal Width Distribution by Species')\n",
    "\n",
    "# Agregar leyenda\n",
    "plt.legend()\n",
    "\n",
    "# Mostrar el histograma\n",
    "plt.show()"
   ]
  },
  {
   "cell_type": "code",
   "execution_count": 51,
   "metadata": {},
   "outputs": [
    {
     "data": {
      "image/png": "[encoded data removed]",
      "text/plain": [
       "<Figure size 720x432 with 1 Axes>"
      ]
     },
     "metadata": {
      "needs_background": "light"
     },
     "output_type": "display_data"
    }
   ],
   "source": [
    "plt.figure(figsize=(10, 6))\n",
    "\n",
    "# Iterar sobre cada grupo de especies\n",
    "for species, group in iris_flower_dataset.groupby('species'):\n",
    "    plt.hist(group['petal_width'], bins=10, alpha=0.5, label=species)\n",
    "\n",
    "# Configurar etiquetas y título\n",
    "plt.xlabel('Petal Width')\n",
    "plt.ylabel('Frequency')\n",
    "plt.title('Petal Width Distribution by Species')\n",
    "\n",
    "# Agregar leyenda\n",
    "plt.legend()\n",
    "\n",
    "# Mostrar el histograma\n",
    "plt.show()"
   ]
  },
  {
   "cell_type": "markdown",
   "metadata": {},
   "source": []
  },
  {
   "cell_type": "code",
   "execution_count": 52,
   "metadata": {},
   "outputs": [],
   "source": [
    "## Implementación de K-Nearest Neighbors (KNN)\n",
    "from scipy.stats import mode"
   ]
  },
  {
   "cell_type": "code",
   "execution_count": 108,
   "metadata": {},
   "outputs": [],
   "source": [
    "\n",
    "class KNN():\n",
    "    def __init__(self, dataFrameTraining, dataFrameTesting, number_neighbors, classes):\n",
    "        self.dataFrameTraining = dataFrameTraining\n",
    "        self.dataFrameTesting = dataFrameTesting\n",
    "        self.number_neighbors = number_neighbors\n",
    "        self.neigh_ind = []\n",
    "        self.classes = classes\n",
    "    \n",
    "    # (samples, feature1, feature2)\n",
    "    def euclidean_distance(self, a, b):\n",
    "        #Ejecuta la formula para cada sample del conjunto de datos AXIS = 1\n",
    "        return np.sqrt(np.sum((a-b)**2, axis=1))\n",
    "\n",
    "    def computeDistances(self):\n",
    "        # (N, len(dataFrameTraining))\n",
    "        point_dist = []\n",
    "        for i, data in self.dataFrameTesting.iterrows():\n",
    "            point_dist += [self.euclidean_distance(data, self.dataFrameTraining[[\"sepal_length\", \"petal_length\"]])]\n",
    "        \n",
    "        #Cada iteración contiene un vector de tamaño len(dataFrameTraining) con el calculo de la distancia\n",
    "        for distances in point_dist:\n",
    "            #Enumerate (index, value)\n",
    "            enum_neigh = enumerate(distances)\n",
    "            sorted_neighbor = sorted(enum_neigh, key=lambda x: x[1])[:self.number_neighbors]\n",
    "            ind_list = [tupla[0] for tupla in sorted_neighbor]\n",
    "            self.neigh_ind.append(ind_list)\n",
    "        return np.array(self.neigh_ind)\n",
    "    \n",
    "    def predict(self):\n",
    "        predictions = []\n",
    "        \n",
    "        for neighbors_indices in self.neigh_ind:\n",
    "            # Obtener las etiquetas de clase correspondientes a los índices de los vecinos\n",
    "            neighbor_classes = self.dataFrameTraining.iloc[neighbors_indices]['species']\n",
    "            \n",
    "            # Calcular la moda de las clases de los vecinos\n",
    "            predicted_class, _ = mode(neighbor_classes)\n",
    "            predictions.append(predicted_class[0])\n",
    "        \n",
    "        return np.array(predictions)\n"
   ]
  },
  {
   "cell_type": "code",
   "execution_count": 109,
   "metadata": {},
   "outputs": [],
   "source": [
    "from sklearn.model_selection import train_test_split\n",
    "\n",
    "train_data, test_data = train_test_split(iris_flower_dataset, test_size=0.2, random_state=44)"
   ]
  },
  {
   "cell_type": "markdown",
   "metadata": {},
   "source": []
  },
  {
   "cell_type": "code",
   "execution_count": null,
   "metadata": {},
   "outputs": [],
   "source": []
  },
  {
   "cell_type": "code",
   "execution_count": 114,
   "metadata": {},
   "outputs": [
    {
     "data": {
      "text/html": [
       "<div>\n",
       "<style scoped>\n",
       "    .dataframe tbody tr th:only-of-type {\n",
       "        vertical-align: middle;\n",
       "    }\n",
       "\n",
       "    .dataframe tbody tr th {\n",
       "        vertical-align: top;\n",
       "    }\n",
       "\n",
       "    .dataframe thead th {\n",
       "        text-align: right;\n",
       "    }\n",
       "</style>\n",
       "<table border=\"1\" class=\"dataframe\">\n",
       "  <thead>\n",
       "    <tr style=\"text-align: right;\">\n",
       "      <th></th>\n",
       "      <th>sepal_length</th>\n",
       "      <th>sepal_width</th>\n",
       "      <th>petal_length</th>\n",
       "      <th>petal_width</th>\n",
       "      <th>species</th>\n",
       "      <th>clases</th>\n",
       "    </tr>\n",
       "  </thead>\n",
       "  <tbody>\n",
       "    <tr>\n",
       "      <th>144</th>\n",
       "      <td>6.7</td>\n",
       "      <td>3.3</td>\n",
       "      <td>5.7</td>\n",
       "      <td>2.5</td>\n",
       "      <td>Iris-virginica</td>\n",
       "      <td>Iris-versicolor</td>\n",
       "    </tr>\n",
       "    <tr>\n",
       "      <th>9</th>\n",
       "      <td>4.9</td>\n",
       "      <td>3.1</td>\n",
       "      <td>1.5</td>\n",
       "      <td>0.1</td>\n",
       "      <td>Iris-setosa</td>\n",
       "      <td>Iris-setosa</td>\n",
       "    </tr>\n",
       "    <tr>\n",
       "      <th>79</th>\n",
       "      <td>5.7</td>\n",
       "      <td>2.6</td>\n",
       "      <td>3.5</td>\n",
       "      <td>1.0</td>\n",
       "      <td>Iris-versicolor</td>\n",
       "      <td>Iris-versicolor</td>\n",
       "    </tr>\n",
       "    <tr>\n",
       "      <th>95</th>\n",
       "      <td>5.7</td>\n",
       "      <td>3.0</td>\n",
       "      <td>4.2</td>\n",
       "      <td>1.2</td>\n",
       "      <td>Iris-versicolor</td>\n",
       "      <td>Iris-versicolor</td>\n",
       "    </tr>\n",
       "    <tr>\n",
       "      <th>104</th>\n",
       "      <td>6.5</td>\n",
       "      <td>3.0</td>\n",
       "      <td>5.8</td>\n",
       "      <td>2.2</td>\n",
       "      <td>Iris-virginica</td>\n",
       "      <td>Iris-versicolor</td>\n",
       "    </tr>\n",
       "  </tbody>\n",
       "</table>\n",
       "</div>"
      ],
      "text/plain": [
       "     sepal_length  sepal_width  petal_length  petal_width          species  \\\n",
       "144           6.7          3.3           5.7          2.5   Iris-virginica   \n",
       "9             4.9          3.1           1.5          0.1      Iris-setosa   \n",
       "79            5.7          2.6           3.5          1.0  Iris-versicolor   \n",
       "95            5.7          3.0           4.2          1.2  Iris-versicolor   \n",
       "104           6.5          3.0           5.8          2.2   Iris-virginica   \n",
       "\n",
       "              clases  \n",
       "144  Iris-versicolor  \n",
       "9        Iris-setosa  \n",
       "79   Iris-versicolor  \n",
       "95   Iris-versicolor  \n",
       "104  Iris-versicolor  "
      ]
     },
     "execution_count": 114,
     "metadata": {},
     "output_type": "execute_result"
    }
   ],
   "source": [
    "classifier = KNN(train_data, test_data, 80, 15)\n",
    "classifier.computeDistances()\n",
    "labels_predic = classifier.predict()\n",
    "test_data_copy = test_data.copy()\n",
    "\n",
    "# Asignar las etiquetas predichas a la columna 'species' de la copia del DataFrame\n",
    "test_data_copy.loc[:, 'clases'] = labels_predic\n",
    "test_data_copy.head()\n",
    "#print(\"Predicciones:\")\n",
    "#for i, prediction in enumerate(labels_predic):\n",
    "#    print(f\"Predicción {i+1}: {prediction}\")\n"
   ]
  },
  {
   "cell_type": "code",
   "execution_count": null,
   "metadata": {},
   "outputs": [],
   "source": []
  },
  {
   "cell_type": "code",
   "execution_count": 111,
   "metadata": {},
   "outputs": [
    {
     "data": {
      "image/png": "[encoded data removed]",
      "text/plain": [
       "<Figure size 432x288 with 1 Axes>"
      ]
     },
     "metadata": {
      "needs_background": "light"
     },
     "output_type": "display_data"
    }
   ],
   "source": [
    "class_colors = {\n",
    "    'Iris-setosa': 'blue',\n",
    "    'Iris-versicolor': 'orange',\n",
    "    'Iris-virginica': 'green'\n",
    "}\n",
    "# Crear un gráfico de dispersión para los datos originales\n",
    "for clase, color in class_colors.items():\n",
    "    plt.scatter(\n",
    "        test_data[test_data['species'] == clase]['sepal_length'],\n",
    "        test_data[test_data['species'] == clase]['petal_length'],\n",
    "        color=color,\n",
    "        label=f'Clase Original {clase}',\n",
    "        alpha=0.5\n",
    "    )\n",
    "\n",
    "# Crear un gráfico de dispersión para los datos predichos\n",
    "for clase in range(15):\n",
    "    plt.scatter(\n",
    "        test_data_copy[test_data_copy['species'] == clase]['sepal_length'],\n",
    "        test_data_copy[test_data_copy['species'] == clase]['petal_length'],\n",
    "        color='red',\n",
    "        #label=f'Clase Predicha {clase}',\n",
    "        alpha=1\n",
    "    )\n",
    "\n",
    "plt.title('Clases Originales y Predichas en el Conjunto de Prueba')\n",
    "plt.xlabel('Longitud del sépalo')\n",
    "plt.ylabel('Longitud del pétalo')\n",
    "plt.legend()\n",
    "plt.show()"
   ]
  },
  {
   "cell_type": "code",
   "execution_count": null,
   "metadata": {},
   "outputs": [],
   "source": []
  }
 ],
 "metadata": {
  "kernelspec": {
   "display_name": "base",
   "language": "python",
   "name": "python3"
  },
  "language_info": {
   "codemirror_mode": {
    "name": "ipython",
    "version": 3
   },
   "file_extension": ".py",
   "mimetype": "text/x-python",
   "name": "python",
   "nbconvert_exporter": "python",
   "pygments_lexer": "ipython3",
   "version": "3.9.7"
  }
 },
 "nbformat": 4,
 "nbformat_minor": 2
}
