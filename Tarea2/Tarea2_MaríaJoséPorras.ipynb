{
 "cells": [
  {
   "cell_type": "markdown",
   "metadata": {},
   "source": [
    "# Tarea 02: Aplicación de Machine Learnign en el Conjunto de Datos Iris\n"
   ]
  },
  {
   "cell_type": "markdown",
   "metadata": {},
   "source": [
    "### Objetivo\n",
    "El propósito de esta tarea es realizar un análisis y aplicación de Machine Learning en el conjunto de \n",
    "datos Iris, utilizando el algoritmo de k-Nearest Neighbors (KNN). Se espera que el participante \n",
    "descargue el conjunto de datos desde Kaggle, realice una exploración detallada de las \n",
    "características y, posteriormente, implemente y evalúe el modelo de Machine Learning."
   ]
  },
  {
   "cell_type": "code",
   "execution_count": null,
   "metadata": {},
   "outputs": [],
   "source": []
  },
  {
   "cell_type": "code",
   "execution_count": null,
   "metadata": {},
   "outputs": [],
   "source": []
  }
 ],
 "metadata": {
  "language_info": {
   "name": "python"
  }
 },
 "nbformat": 4,
 "nbformat_minor": 2
}
